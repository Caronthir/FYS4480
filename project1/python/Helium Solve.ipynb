{
 "cells": [
  {
   "cell_type": "code",
   "execution_count": null,
   "metadata": {},
   "outputs": [],
   "source": [
    "%load_ext autoreload\n",
    "%autoreload 2"
   ]
  },
  {
   "cell_type": "code",
   "execution_count": null,
   "metadata": {},
   "outputs": [],
   "source": [
    "import numpy as np\n",
    "import matplotlib.pyplot as plt\n",
    "import pandas as pd\n"
   ]
  },
  {
   "cell_type": "markdown",
   "metadata": {},
   "source": [
    "# Helium "
   ]
  },
  {
   "cell_type": "markdown",
   "metadata": {},
   "source": [
    "## Initialize matrix parser"
   ]
  },
  {
   "cell_type": "code",
   "execution_count": null,
   "metadata": {},
   "outputs": [],
   "source": [
    "from read_data import MatrixElementParser\n",
    "\n",
    "Z = 2\n",
    "matr = MatrixElementParser(Z = Z)"
   ]
  },
  {
   "cell_type": "markdown",
   "metadata": {},
   "source": [
    "## Find reference energy"
   ]
  },
  {
   "cell_type": "code",
   "execution_count": null,
   "metadata": {},
   "outputs": [],
   "source": [
    "Eref = 0\n",
    "for i in range(2):\n",
    "    for j in range(2):\n",
    "        Eref += 0.5*matr[i,j,i,j]\n",
    "    Eref += onebody(i,i)\n",
    "Eref"
   ]
  },
  {
   "cell_type": "markdown",
   "metadata": {},
   "source": [
    "## Define hamiltonian up to singles-singles"
   ]
  },
  {
   "cell_type": "code",
   "execution_count": null,
   "metadata": {},
   "outputs": [],
   "source": [
    "def onebody(p,q):\n",
    "    n = p//2 + 1\n",
    "    if n != q//2 + 1:\n",
    "        return 0\n",
    "    else:\n",
    "        return -Z**2/(2*n**2)\n",
    "    \n",
    "n_states = 5\n",
    "\n",
    "core = np.arange(F)\n",
    "n_virtual = 4\n",
    "virtual = np.arange(n_virtual)\n",
    "\n",
    "refs = [0,1]\n",
    "nref = len(refs) # this code needs a bit of rework if the ground state is degenerate\n",
    "\n",
    "singles = [] # [(0,2),(1,3),(0,4),(1,5)]\n",
    "\n",
    "for i in core:\n",
    "    for a in virtual:\n",
    "        if (i%2) == (a%2):\n",
    "            singles.append((i,a))\n",
    "            \n",
    "nsingles = len(singles)\n",
    "\n",
    "ref_ref = np.zeros((1,1))\n",
    "ref_sing = np.zeros((nsingles,1))\n",
    "sing_sing = np.zeros((nsingles,nsingles))\n",
    "\n",
    "ref_ref[0,0] = Eref\n",
    "for ind1,(i,a) in enumerate(singles):\n",
    "    for ind2,(j,b) in enumerate(singles):\n",
    "        E = matr[a,j,i,b] \n",
    "        E += onebody(a,b) if i==j else 0\n",
    "        E -= onebody(i,j) if a==b else 0\n",
    "        E += Eref if (i==j and a==b) else 0\n",
    "        sing_sing[ind1,ind2] = E\n",
    "    \n",
    "    ref_sing[ind1] = sum(matr[i,j,a,j] for j in core) + onebody(i,a)\n",
    "\n",
    "                    \n",
    "H = np.block([[ref_ref, ref_sing.T],\n",
    "              [ref_sing, sing_sing]])\n",
    "\n",
    "e,v = np.linalg.eig(H)\n",
    "print('eigenvalues')\n",
    "print(e)"
   ]
  },
  {
   "cell_type": "code",
   "execution_count": null,
   "metadata": {},
   "outputs": [],
   "source": []
  },
  {
   "cell_type": "code",
   "execution_count": null,
   "metadata": {},
   "outputs": [],
   "source": []
  },
  {
   "cell_type": "code",
   "execution_count": null,
   "metadata": {},
   "outputs": [],
   "source": []
  },
  {
   "cell_type": "code",
   "execution_count": null,
   "metadata": {},
   "outputs": [],
   "source": []
  },
  {
   "cell_type": "code",
   "execution_count": null,
   "metadata": {},
   "outputs": [],
   "source": []
  }
 ],
 "metadata": {
  "kernelspec": {
   "display_name": "Python 3",
   "language": "python",
   "name": "python3"
  },
  "language_info": {
   "codemirror_mode": {
    "name": "ipython",
    "version": 3
   },
   "file_extension": ".py",
   "mimetype": "text/x-python",
   "name": "python",
   "nbconvert_exporter": "python",
   "pygments_lexer": "ipython3",
   "version": "3.6.5"
  }
 },
 "nbformat": 4,
 "nbformat_minor": 2
}

{
 "cells": [
  {
   "cell_type": "code",
   "execution_count": null,
   "metadata": {},
   "outputs": [],
   "source": [
    "%load_ext autoreload\n",
    "%autoreload 2"
   ]
  },
  {
   "cell_type": "code",
   "execution_count": null,
   "metadata": {},
   "outputs": [],
   "source": [
    "import numpy as np\n",
    "import matplotlib.pyplot as plt\n",
    "import pandas as pd\n"
   ]
  },
  {
   "cell_type": "markdown",
   "metadata": {},
   "source": [
    "# Helium "
   ]
  },
  {
   "cell_type": "markdown",
   "metadata": {},
   "source": [
    "## Initialize matrix parser"
   ]
  },
  {
   "cell_type": "code",
   "execution_count": null,
   "metadata": {},
   "outputs": [],
   "source": [
    "from matrixelementparser import MatrixElementParser\n",
    "\n",
    "Z = 2\n",
    "matr = MatrixElementParser(Z=Z)\n",
    "matr.show()"
   ]
  },
  {
   "cell_type": "markdown",
   "metadata": {},
   "source": [
    "## Find reference energy"
   ]
  },
  {
   "cell_type": "code",
   "execution_count": null,
   "metadata": {},
   "outputs": [],
   "source": [
    "def Eref(Z):\n",
    "    Eref = 0\n",
    "    for i in range(Z):\n",
    "        for j in range(Z):\n",
    "            Eref += 0.5*matr[i, j, i, j]\n",
    "        Eref += matr.onebody(i, i)\n",
    "    return Eref\n",
    "\n",
    "[print(Eref(z)) for z in range(1,4)]"
   ]
  },
  {
   "cell_type": "markdown",
   "metadata": {},
   "source": [
    "## Define hamiltonian up to singles-singles"
   ]
  },
  {
   "cell_type": "code",
   "execution_count": null,
   "metadata": {},
   "outputs": [],
   "source": [
    "n_states = 5\n",
    "\n",
    "F = 2\n",
    "core = np.arange(F)\n",
    "n_virtual = 4\n",
    "virtual = np.arange(n_virtual) + F\n",
    "\n",
    "refs = [0,1]\n",
    "nref = len(refs) # this code needs a bit of rework if the ground state is degenerate\n",
    "\n",
    "singles = [] # [(0,2),(1,3),(0,4),(1,5)]\n",
    "\n",
    "for i in core:\n",
    "    for a in virtual:\n",
    "        if (i%2) == (a%2):\n",
    "            singles.append((i, a))\n",
    "            \n",
    "nsingles = len(singles)\n",
    "\n",
    "ref_ref = np.zeros((1,1))\n",
    "ref_sing = np.zeros((nsingles,1))\n",
    "sing_sing = np.zeros((nsingles,nsingles))\n",
    "\n",
    "ref_ref[0,0] = Eref(Z)\n",
    "for ind1, (i, a) in enumerate(singles):\n",
    "    for ind2, (j, b) in enumerate(singles):\n",
    "        E = matr[a, j, i, b] \n",
    "        E += matr.onebody(a, b) if i==j else 0\n",
    "        E -= matr.onebody(i, j) if a==b else 0\n",
    "        E += Eref(Z) if (i==j and a==b) else 0\n",
    "        sing_sing[ind1, ind2] = E\n",
    "    \n",
    "    ref_sing[ind1] = sum(matr[i, j, a, j] for j in core) + matr.onebody(i, a)\n",
    "\n",
    "                    \n",
    "H = np.block([[ref_ref, ref_sing.T],\n",
    "              [ref_sing, sing_sing]])\n",
    "\n",
    "e,v = np.linalg.eig(H)\n",
    "print(H)\n",
    "print('eigenvalues')\n",
    "print(e)"
   ]
  },
  {
   "cell_type": "markdown",
   "metadata": {},
   "source": [
    "## Generalize code above into HartreeFock class"
   ]
  },
  {
   "cell_type": "code",
   "execution_count": null,
   "metadata": {},
   "outputs": [],
   "source": [
    "from hartreefock import HartreeFock\n",
    "\n",
    "system = HartreeFock(Z=2)\n",
    "print(system.Hamiltonian())\n",
    "\n",
    "print(system.energy_states()[0])"
   ]
  },
  {
   "cell_type": "code",
   "execution_count": null,
   "metadata": {},
   "outputs": [],
   "source": []
  }
 ],
 "metadata": {
  "kernelspec": {
   "display_name": "Python 3",
   "language": "python",
   "name": "python3"
  },
  "language_info": {
   "codemirror_mode": {
    "name": "ipython",
    "version": 3
   },
   "file_extension": ".py",
   "mimetype": "text/x-python",
   "name": "python",
   "nbconvert_exporter": "python",
   "pygments_lexer": "ipython3",
   "version": "3.7.0"
  }
 },
 "nbformat": 4,
 "nbformat_minor": 2
}

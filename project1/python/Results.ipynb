{
 "cells": [
  {
   "cell_type": "code",
   "execution_count": 1,
   "metadata": {},
   "outputs": [],
   "source": [
    "%load_ext autoreload\n",
    "%autoreload 2"
   ]
  },
  {
   "cell_type": "code",
   "execution_count": 2,
   "metadata": {},
   "outputs": [],
   "source": [
    "import matplotlib.pyplot as plt\n",
    "import numpy as np\n",
    "from fci import FCI\n",
    "plt.rcParams['figure.figsize'] = (8, 8)\n",
    "plt.rcParams['lines.markeredgewidth'] = 3\n",
    "plt.rcParams.update({'font.size': 18})"
   ]
  },
  {
   "cell_type": "markdown",
   "metadata": {},
   "source": [
    "# Results"
   ]
  },
  {
   "cell_type": "markdown",
   "metadata": {},
   "source": [
    "## Part b)"
   ]
  },
  {
   "cell_type": "markdown",
   "metadata": {},
   "source": [
    "Plotting E as a function of Z"
   ]
  },
  {
   "cell_type": "code",
   "execution_count": 3,
   "metadata": {},
   "outputs": [
    {
     "data": {
      "image/png": "[encoded data removed]",
      "text/plain": [
       "<Figure size 432x288 with 1 Axes>"
      ]
     },
     "metadata": {
      "needs_background": "light"
     },
     "output_type": "display_data"
    }
   ],
   "source": [
    "Z = np.arange(1, 7)\n",
    "energies = [FCI(Z=z).Eref for z in Z]\n",
    "fig, ax = plt.subplots()\n",
    "#ax.set_color_cycle(plt.get_cmap(\"Blues\"))\n",
    "for energy in energies:\n",
    "    ax.plot((0, 1), (energy, energy), 'k-')\n",
    "# ax.plot(Z, energies, '-o')\n",
    "# ax.set_xlabel(r'Z')\n",
    "ax.xaxis.set_ticks_position('none')\n",
    "ax.xaxis.set_visible(None)\n",
    "ax.set_ylabel(r'Energy $\\left\\langle \\Phi_0 \\left| \\hat{H} \\right| \\Phi_0\\right\\rangle \\quad [\\hbar\\omega$]')\n",
    "ax.set_xlim(-0.1, 2)\n",
    "for (x, y) in zip(Z, energies):\n",
    "    ax.annotate(f\"$Z = {x:g}, E = {y:.3f}$\", xy=(1.1, y))\n",
    "ax.invert_yaxis()\n",
    "fig.savefig('figures/efunctionofz.eps')\n",
    "plt.show()"
   ]
  },
  {
   "cell_type": "markdown",
   "metadata": {},
   "source": [
    "## Part c)"
   ]
  },
  {
   "cell_type": "code",
   "execution_count": 4,
   "metadata": {},
   "outputs": [],
   "source": [
    "from matrixelementparser import MatrixElementParser \n",
    "parser = MatrixElementParser()"
   ]
  },
  {
   "cell_type": "code",
   "execution_count": 5,
   "metadata": {},
   "outputs": [
    {
     "data": {
      "image/png": "[encoded data removed]",
      "text/plain": [
       "<Figure size 432x288 with 2 Axes>"
      ]
     },
     "metadata": {
      "needs_background": "light"
     },
     "output_type": "display_data"
    }
   ],
   "source": [
    "fig, ax = parser.show()\n",
    "fig.savefig('figures/partbmatrix.eps')"
   ]
  },
  {
   "cell_type": "markdown",
   "metadata": {},
   "source": [
    "Comparing $E_{ref}$ with $E[\\Phi]_{FCI}$"
   ]
  },
  {
   "cell_type": "code",
   "execution_count": 6,
   "metadata": {},
   "outputs": [
    {
     "name": "stdout",
     "output_type": "stream",
     "text": [
      "E_Ref =  -2.75\n",
      "E[Phi] =  -2.8386484527787825\n"
     ]
    }
   ],
   "source": [
    "print(\"E_Ref = \", FCI(Z=2).Eref)\n",
    "print(\"E[Phi] = \", FCI(Z=2).energy_states()[0][0])"
   ]
  },
  {
   "cell_type": "markdown",
   "metadata": {},
   "source": [
    "# Part d)"
   ]
  },
  {
   "cell_type": "markdown",
   "metadata": {},
   "source": [
    "Same stuff, but for the Beryllium atom"
   ]
  },
  {
   "cell_type": "code",
   "execution_count": 7,
   "metadata": {},
   "outputs": [
    {
     "name": "stdout",
     "output_type": "stream",
     "text": [
      "E_Ref =  -13.715995799039781\n",
      "E[Phi] =  -14.362107983144607\n"
     ]
    }
   ],
   "source": [
    "print(\"E_Ref = \", FCI(Z=4).Eref)\n",
    "print(\"E[Phi] = \", FCI(Z=4).energy_states()[0][0])"
   ]
  },
  {
   "cell_type": "markdown",
   "metadata": {},
   "source": [
    "# Part f) and g)"
   ]
  },
  {
   "cell_type": "markdown",
   "metadata": {},
   "source": [
    "The new single-particle energies and new ground state energy after the first diagonalization."
   ]
  },
  {
   "cell_type": "code",
   "execution_count": 8,
   "metadata": {},
   "outputs": [
    {
     "name": "stdout",
     "output_type": "stream",
     "text": [
      "Reference energy:  -2.75\n",
      "Iteration     energy:        ∑_i |ϵ^n_i−ϵ^{n−1}_i| /n    ionization energies\n",
      "     1        -2.82919       inf                         [-0.783 -0.783  0.04   0.04   0.453  0.453]\n",
      "     2        -2.83106       0.0327351                   [-0.872 -0.872  0.04   0.04   0.444  0.444]\n",
      "     3        -2.8311        0.00617802                  [-0.886 -0.886  0.039  0.039  0.44   0.44 ]\n",
      "     4        -2.8311        0.000759482                 [-0.888 -0.888  0.039  0.039  0.44   0.44 ]\n",
      "     5        -2.8311        9.27212e-05                 [-0.888 -0.888  0.039  0.039  0.44   0.44 ]\n",
      "     6        -2.8311        1.21383e-05                 [-0.888 -0.888  0.039  0.039  0.44   0.44 ]\n",
      "     7        -2.8311        1.72565e-06                 [-0.888 -0.888  0.039  0.039  0.44   0.44 ]\n",
      "     8        -2.8311        2.64287e-07                 [-0.888 -0.888  0.039  0.039  0.44   0.44 ]\n",
      "     9        -2.8311        4.2853e-08                  [-0.888 -0.888  0.039  0.039  0.44   0.44 ]\n",
      "     10       -2.8311        7.22935e-09                 [-0.888 -0.888  0.039  0.039  0.44   0.44 ]\n",
      "     11       -2.8311        1.24978e-09                 [-0.888 -0.888  0.039  0.039  0.44   0.44 ]\n",
      "     12       -2.8311        2.19154e-10                 [-0.888 -0.888  0.039  0.039  0.44   0.44 ]\n",
      "     13       -2.8311        3.87461e-11                 [-0.888 -0.888  0.039  0.039  0.44   0.44 ]\n",
      "     14       -2.8311        6.88236e-12                 [-0.888 -0.888  0.039  0.039  0.44   0.44 ]\n",
      "     15       -2.8311        1.22575e-12                 [-0.888 -0.888  0.039  0.039  0.44   0.44 ]\n",
      "     16       -2.8311        2.18639e-13                 [-0.888 -0.888  0.039  0.039  0.44   0.44 ]\n",
      "     17       -2.8311        3.88069e-14                 [-0.888 -0.888  0.039  0.039  0.44   0.44 ]\n",
      "     18       -2.8311        7.13318e-15                 [-0.888 -0.888  0.039  0.039  0.44   0.44 ]\n",
      "     19       -2.8311        1.02002e-15                 [-0.888 -0.888  0.039  0.039  0.44   0.44 ]\n",
      "     20       -2.8311        4.19803e-16                 [-0.888 -0.888  0.039  0.039  0.44   0.44 ]\n",
      "First iteration -2.82919\t20th iteration: -2.83110\n",
      "First iteration [-0.872 -0.872  0.04   0.04   0.444  0.444]\n",
      "20th iteration: [-0.888 -0.888  0.039  0.039  0.44   0.44 ]\n"
     ]
    }
   ],
   "source": [
    "from hfock import solve_hfock\n",
    "\n",
    "energiesHe, hfockHe = solve_hfock(FCI(Z=2), tol=1e-15, max_itr=30, verbose=True)\n",
    "print(f\"First iteration {energiesHe[1]:.5f}\\t{len(hfockHe)}th iteration: {energiesHe[-1]:.5f}\")\n",
    "print(f\"First iteration {hfockHe[1]}\\n{len(hfockHe)}th iteration: {hfockHe[-1]}\")"
   ]
  },
  {
   "cell_type": "code",
   "execution_count": 9,
   "metadata": {},
   "outputs": [
    {
     "name": "stdout",
     "output_type": "stream",
     "text": [
      "Reference energy:  -13.715995799039781\n",
      "Iteration     energy:        ∑_i |ϵ^n_i−ϵ^{n−1}_i| /n    ionization energies\n",
      "     1        -14.4998       inf                         [-3.951 -3.951 -0.104 -0.104  0.866  0.866]\n",
      "     2        -14.508        0.303471                    [-4.629 -4.629 -0.296 -0.296  0.825  0.825]\n",
      "     3        -14.5082       0.0228789                   [-4.678 -4.678 -0.304 -0.304  0.814  0.814]\n",
      "     4        -14.5083       0.00361589                  [-4.685 -4.685 -0.305 -0.305  0.812  0.812]\n",
      "     5        -14.5083       0.000604125                 [-4.687 -4.687 -0.305 -0.305  0.811  0.811]\n",
      "     6        -14.5083       0.000101201                 [-4.687 -4.687 -0.305 -0.305  0.811  0.811]\n",
      "     7        -14.5083       1.69169e-05                 [-4.687 -4.687 -0.305 -0.305  0.811  0.811]\n",
      "     8        -14.5083       2.82404e-06                 [-4.687 -4.687 -0.305 -0.305  0.811  0.811]\n",
      "     9        -14.5083       4.71141e-07                 [-4.687 -4.687 -0.305 -0.305  0.811  0.811]\n",
      "     10       -14.5083       7.85815e-08                 [-4.687 -4.687 -0.305 -0.305  0.811  0.811]\n",
      "     11       -14.5083       1.31053e-08                 [-4.687 -4.687 -0.305 -0.305  0.811  0.811]\n",
      "     12       -14.5083       2.18552e-09                 [-4.687 -4.687 -0.305 -0.305  0.811  0.811]\n",
      "     13       -14.5083       3.64463e-10                 [-4.687 -4.687 -0.305 -0.305  0.811  0.811]\n",
      "     14       -14.5083       6.07796e-11                 [-4.687 -4.687 -0.305 -0.305  0.811  0.811]\n",
      "     15       -14.5083       1.01351e-11                 [-4.687 -4.687 -0.305 -0.305  0.811  0.811]\n",
      "     16       -14.5083       1.69039e-12                 [-4.687 -4.687 -0.305 -0.305  0.811  0.811]\n",
      "     17       -14.5083       2.81839e-13                 [-4.687 -4.687 -0.305 -0.305  0.811  0.811]\n",
      "     18       -14.5083       4.65461e-14                 [-4.687 -4.687 -0.305 -0.305  0.811  0.811]\n",
      "     19       -14.5083       8.44695e-15                 [-4.687 -4.687 -0.305 -0.305  0.811  0.811]\n",
      "     20       -14.5083       2.13718e-15                 [-4.687 -4.687 -0.305 -0.305  0.811  0.811]\n",
      "     21       -14.5083       8.51171e-16                 [-4.687 -4.687 -0.305 -0.305  0.811  0.811]\n",
      "First iteration -14.49982\t21th iteration: -14.50825\n",
      "First iteration [-4.629 -4.629 -0.296 -0.296  0.825  0.825]\n",
      "21th iteration: [-4.687 -4.687 -0.305 -0.305  0.811  0.811]\n"
     ]
    }
   ],
   "source": [
    "energiesBe, hfockBe = solve_hfock(FCI(Z=4), tol=1e-15, max_itr=30, verbose=True)\n",
    "print(f\"First iteration {energiesBe[1]:.5f}\\t{len(hfockBe)}th iteration: {energiesBe[-1]:.5f}\")\n",
    "print(f\"First iteration {hfockBe[1]}\\n{len(hfockBe)}th iteration: {hfockBe[-1]}\")"
   ]
  },
  {
   "cell_type": "code",
   "execution_count": null,
   "metadata": {},
   "outputs": [],
   "source": []
  }
 ],
 "metadata": {
  "kernelspec": {
   "display_name": "Python 3",
   "language": "python",
   "name": "python3"
  },
  "language_info": {
   "codemirror_mode": {
    "name": "ipython",
    "version": 3
   },
   "file_extension": ".py",
   "mimetype": "text/x-python",
   "name": "python",
   "nbconvert_exporter": "python",
   "pygments_lexer": "ipython3",
   "version": "3.7.2"
  }
 },
 "nbformat": 4,
 "nbformat_minor": 2
}

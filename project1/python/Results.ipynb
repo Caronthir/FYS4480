{
 "cells": [
  {
   "cell_type": "code",
   "execution_count": null,
   "metadata": {},
   "outputs": [],
   "source": [
    "%load_ext autoreload\n",
    "%autoreload 2"
   ]
  },
  {
   "cell_type": "code",
   "execution_count": null,
   "metadata": {},
   "outputs": [],
   "source": [
    "plt.rcParams['figure.figsize'] = (8, 8)\n",
    "plt.rcParams['lines.markeredgewidth'] = 3\n",
    "plt.rcParams.update({'font.size': 18})"
   ]
  },
  {
   "cell_type": "markdown",
   "metadata": {},
   "source": [
    "# Results"
   ]
  },
  {
   "cell_type": "markdown",
   "metadata": {},
   "source": [
    "## Part b)"
   ]
  },
  {
   "cell_type": "markdown",
   "metadata": {},
   "source": [
    "Plotting E as a function of Z"
   ]
  },
  {
   "cell_type": "code",
   "execution_count": null,
   "metadata": {},
   "outputs": [],
   "source": [
    "import matplotlib.pyplot as plt\n",
    "import numpy as np\n",
    "from fci import FCI\n",
    "\n",
    "Z = np.arange(1, 7)\n",
    "energies = [FCI(Z=z).Eref for z in Z]\n",
    "fig, ax = plt.subplots()\n",
    "ax.set_color_cycle(plt.get_cmap(\"Blues\"))\n",
    "for energy in energies:\n",
    "    ax.plot((0, 1), (energy, energy), 'k-')\n",
    "# ax.plot(Z, energies, '-o')\n",
    "# ax.set_xlabel(r'Z')\n",
    "ax.xaxis.set_ticks_position('none')\n",
    "ax.xaxis.set_visible(None)\n",
    "ax.set_ylabel(r'Energy $\\left\\langle \\Phi_0 \\left| \\hat{H} \\right| \\Phi_0\\right\\rangle \\quad [\\hbar\\omega$]')\n",
    "ax.set_xlim(-0.1, 2)\n",
    "for (x, y) in zip(Z, energies):\n",
    "    ax.annotate(f\"$Z = {x:g}, E = {y:.3f}$\", xy=(1.1, y))\n",
    "ax.invert_yaxis()\n",
    "fig.savefig('figures/efunctionofz.eps')\n",
    "plt.show()"
   ]
  },
  {
   "cell_type": "markdown",
   "metadata": {},
   "source": [
    "## Part c)"
   ]
  },
  {
   "cell_type": "code",
   "execution_count": null,
   "metadata": {},
   "outputs": [],
   "source": [
    "from matrixelementparser import MatrixElementParser \n",
    "parser = MatrixElementParser()"
   ]
  },
  {
   "cell_type": "code",
   "execution_count": null,
   "metadata": {},
   "outputs": [],
   "source": [
    "fig, ax = parser.show()\n",
    "fig.savefig('figures/partbmatrix.eps')"
   ]
  },
  {
   "cell_type": "markdown",
   "metadata": {},
   "source": [
    "Comparing $E_{ref}$ with $E[\\Phi]_{FCI}$"
   ]
  },
  {
   "cell_type": "code",
   "execution_count": null,
   "metadata": {},
   "outputs": [],
   "source": [
    "print(\"E_Ref = \", FCI(Z=2).Eref)\n",
    "print(\"E[Phi] = \", FCI(Z=2).energy_states()[0][0])"
   ]
  },
  {
   "cell_type": "markdown",
   "metadata": {},
   "source": [
    "# Part d)"
   ]
  },
  {
   "cell_type": "markdown",
   "metadata": {},
   "source": [
    "Same stuff, but for the Beryllium atom"
   ]
  },
  {
   "cell_type": "code",
   "execution_count": null,
   "metadata": {},
   "outputs": [],
   "source": [
    "print(\"E_Ref = \", FCI(Z=4).Eref)\n",
    "print(\"E[Phi] = \", FCI(Z=4).energy_states()[0][0])"
   ]
  },
  {
   "cell_type": "markdown",
   "metadata": {},
   "source": [
    "# Part f) and g)"
   ]
  },
  {
   "cell_type": "markdown",
   "metadata": {},
   "source": [
    "The new single-particle energies and new ground state energy after the first diagonalization."
   ]
  },
  {
   "cell_type": "code",
   "execution_count": null,
   "metadata": {},
   "outputs": [],
   "source": [
    "from hfock import solve_hfock\n",
    "\n",
    "energiesHe, hfockHe = solve_hfock(FCI(Z=2), tol=1e-15, max_itr=30, verbose=True)\n",
    "print(f\"First iteration {energiesHe[1]:.5f}\\t{len(hfockHe)}th iteration: {energiesHe[-1]:.5f}\")\n",
    "print(f\"First iteration {hfockHe[1]}\\n{len(hfockHe)}th iteration: {hfockHe[-1]}\")"
   ]
  },
  {
   "cell_type": "code",
   "execution_count": null,
   "metadata": {},
   "outputs": [],
   "source": [
    "energiesBe, hfockBe = solve_hfock(FCI(Z=4), tol=1e-15, max_itr=30, verbose=True)\n",
    "print(f\"First iteration {energiesBe[1]:.5f}\\t{len(hfockBe)}th iteration: {energiesBe[-1]:.5f}\")\n",
    "print(f\"First iteration {hfockBe[1]}\\n{len(hfockBe)}th iteration: {hfockBe[-1]}\")"
   ]
  },
  {
   "cell_type": "code",
   "execution_count": null,
   "metadata": {},
   "outputs": [],
   "source": []
  }
 ],
 "metadata": {
  "kernelspec": {
   "display_name": "Python 3",
   "language": "python",
   "name": "python3"
  },
  "language_info": {
   "codemirror_mode": {
    "name": "ipython",
    "version": 3
   },
   "file_extension": ".py",
   "mimetype": "text/x-python",
   "name": "python",
   "nbconvert_exporter": "python",
   "pygments_lexer": "ipython3",
   "version": "3.7.1"
  }
 },
 "nbformat": 4,
 "nbformat_minor": 2
}

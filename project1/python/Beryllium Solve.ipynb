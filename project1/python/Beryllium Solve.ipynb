{
 "cells": [
  {
   "cell_type": "code",
   "execution_count": 1,
   "metadata": {},
   "outputs": [],
   "source": [
    "%load_ext autoreload\n",
    "%autoreload 2"
   ]
  },
  {
   "cell_type": "code",
   "execution_count": 2,
   "metadata": {},
   "outputs": [],
   "source": [
    "import numpy as np\n",
    "import matplotlib.pyplot as plt\n",
    "import pandas as pd\n"
   ]
  },
  {
   "cell_type": "markdown",
   "metadata": {},
   "source": [
    "# Helium "
   ]
  },
  {
   "cell_type": "markdown",
   "metadata": {},
   "source": [
    "## Initialize matrix parser"
   ]
  },
  {
   "cell_type": "code",
   "execution_count": 3,
   "metadata": {},
   "outputs": [
    {
     "name": "stdout",
     "output_type": "stream",
     "text": [
      "/home/erdos/gits/4480/project1/python/../data/matrix_data.txt\n"
     ]
    },
    {
     "data": {
      "image/png": "[encoded data removed]",
      "text/plain": [
       "<Figure size 432x288 with 2 Axes>"
      ]
     },
     "metadata": {
      "needs_background": "light"
     },
     "output_type": "display_data"
    },
    {
     "data": {
      "text/plain": [
       "(<Figure size 432x288 with 2 Axes>,\n",
       " <matplotlib.axes._subplots.AxesSubplot at 0x7fcb3e5b8828>)"
      ]
     },
     "execution_count": 3,
     "metadata": {},
     "output_type": "execute_result"
    }
   ],
   "source": [
    "from matrixelementparser import MatrixElementParser\n",
    "\n",
    "Z = 4\n",
    "matr = MatrixElementParser(Z=Z)\n",
    "matr.show()"
   ]
  },
  {
   "cell_type": "markdown",
   "metadata": {},
   "source": [
    "## Find reference energy"
   ]
  },
  {
   "cell_type": "code",
   "execution_count": 4,
   "metadata": {},
   "outputs": [
    {
     "name": "stdout",
     "output_type": "stream",
     "text": [
      "-8.0\n",
      "-13.5\n",
      "-13.90877914951989\n"
     ]
    },
    {
     "data": {
      "text/plain": [
       "[None, None, None]"
      ]
     },
     "execution_count": 4,
     "metadata": {},
     "output_type": "execute_result"
    }
   ],
   "source": [
    "def Eref(Z):\n",
    "    Eref = 0\n",
    "    for i in range(Z):\n",
    "        for j in range(Z):\n",
    "            Eref += 0.5*matr[i, j, i, j]\n",
    "        Eref += matr.onebody(i, i)\n",
    "    return Eref\n",
    "\n",
    "[print(Eref(z)) for z in range(1,4)]"
   ]
  },
  {
   "cell_type": "markdown",
   "metadata": {},
   "source": [
    "## Define hamiltonian up to singles-singles"
   ]
  },
  {
   "cell_type": "code",
   "execution_count": 5,
   "metadata": {},
   "outputs": [
    {
     "data": {
      "text/plain": [
       "[(0, 4), (1, 5), (2, 4), (3, 5)]"
      ]
     },
     "execution_count": 5,
     "metadata": {},
     "output_type": "execute_result"
    }
   ],
   "source": [
    "n_states = 5\n",
    "\n",
    "F = 4\n",
    "core = np.arange(F)\n",
    "n_virtual = 2\n",
    "virtual = np.arange(n_virtual) + F\n",
    "\n",
    "refs = [0,1]\n",
    "nref = len(refs) # this code needs a bit of rework if the ground state is degenerate\n",
    "\n",
    "singles = [] # [(0,2),(1,3),(0,4),(1,5)]\n",
    "\n",
    "for i in core:\n",
    "    for a in virtual:\n",
    "        if (i%2) == (a%2):\n",
    "            singles.append((i, a))\n",
    "            \n",
    "singles"
   ]
  },
  {
   "cell_type": "code",
   "execution_count": 6,
   "metadata": {},
   "outputs": [
    {
     "name": "stdout",
     "output_type": "stream",
     "text": [
      "[[-1.37159958e+01  1.89154018e-01  1.89154018e-01  4.45188367e-01\n",
      "   4.45188367e-01]\n",
      " [ 1.89154018e-01 -6.97976262e+00  2.30712891e-02 -1.27925738e-03\n",
      "   8.43615534e-03]\n",
      " [ 1.89154018e-01  2.30712891e-02 -6.97976262e+00  8.43615534e-03\n",
      "  -1.27925738e-03]\n",
      " [ 4.45188367e-01 -1.27925738e-03  8.43615534e-03 -1.29114363e+01\n",
      "   2.99040768e-02]\n",
      " [ 4.45188367e-01  8.43615534e-03 -1.27925738e-03  2.99040768e-02\n",
      "  -1.29114363e+01]]\n",
      "eigenvalues\n",
      "[-14.06166423 -12.54660825  -6.94594686 -12.94135626  -7.00281801]\n"
     ]
    }
   ],
   "source": [
    "nsingles = len(singles)\n",
    "\n",
    "ref_ref = np.zeros((1,1))\n",
    "ref_sing = np.zeros((nsingles,1))\n",
    "sing_sing = np.zeros((nsingles,nsingles))\n",
    "\n",
    "ref_ref[0,0] = Eref(Z)\n",
    "for ind1, (i, a) in enumerate(singles):\n",
    "    for ind2, (j, b) in enumerate(singles):\n",
    "        E = matr[a, j, i, b] \n",
    "        E += matr.onebody(a, b) if i==j else 0\n",
    "        E -= matr.onebody(i, j) if a==b else 0\n",
    "        E += Eref(Z) if (i==j and a==b) else 0\n",
    "        sing_sing[ind1, ind2] = E\n",
    "    \n",
    "    ref_sing[ind1] = sum(matr[i, j, a, j] for j in core) + matr.onebody(i, a)\n",
    "\n",
    "                    \n",
    "H = np.block([[ref_ref, ref_sing.T],\n",
    "              [ref_sing, sing_sing]])\n",
    "\n",
    "e,v = np.linalg.eig(H)\n",
    "print(H)\n",
    "print('eigenvalues')\n",
    "print(e)"
   ]
  },
  {
   "cell_type": "markdown",
   "metadata": {},
   "source": [
    "## Generalize code above into HartreeFock class"
   ]
  },
  {
   "cell_type": "code",
   "execution_count": 7,
   "metadata": {},
   "outputs": [
    {
     "ename": "ModuleNotFoundError",
     "evalue": "No module named 'hartreefock'",
     "output_type": "error",
     "traceback": [
      "\u001b[0;31m---------------------------------------------------------------------------\u001b[0m",
      "\u001b[0;31mModuleNotFoundError\u001b[0m                       Traceback (most recent call last)",
      "\u001b[0;32m<ipython-input-7-39574ff6ec37>\u001b[0m in \u001b[0;36m<module>\u001b[0;34m\u001b[0m\n\u001b[0;32m----> 1\u001b[0;31m \u001b[0;32mfrom\u001b[0m \u001b[0mhartreefock\u001b[0m \u001b[0;32mimport\u001b[0m \u001b[0mHartreeFock\u001b[0m\u001b[0;34m\u001b[0m\u001b[0;34m\u001b[0m\u001b[0m\n\u001b[0m\u001b[1;32m      2\u001b[0m \u001b[0;34m\u001b[0m\u001b[0m\n\u001b[1;32m      3\u001b[0m \u001b[0msystem\u001b[0m \u001b[0;34m=\u001b[0m \u001b[0mHartreeFock\u001b[0m\u001b[0;34m(\u001b[0m\u001b[0mZ\u001b[0m\u001b[0;34m=\u001b[0m\u001b[0;36m4\u001b[0m\u001b[0;34m)\u001b[0m\u001b[0;34m\u001b[0m\u001b[0;34m\u001b[0m\u001b[0m\n\u001b[1;32m      4\u001b[0m \u001b[0mprint\u001b[0m\u001b[0;34m(\u001b[0m\u001b[0msystem\u001b[0m\u001b[0;34m.\u001b[0m\u001b[0mHamiltonian\u001b[0m\u001b[0;34m(\u001b[0m\u001b[0;34m)\u001b[0m\u001b[0;34m)\u001b[0m\u001b[0;34m\u001b[0m\u001b[0;34m\u001b[0m\u001b[0m\n\u001b[1;32m      5\u001b[0m \u001b[0;34m\u001b[0m\u001b[0m\n",
      "\u001b[0;31mModuleNotFoundError\u001b[0m: No module named 'hartreefock'"
     ]
    }
   ],
   "source": [
    "from hartreefock import HartreeFock\n",
    "\n",
    "system = HartreeFock(Z=4)\n",
    "print(system.Hamiltonian())\n",
    "\n",
    "print(system.energy_states()[0])"
   ]
  },
  {
   "cell_type": "code",
   "execution_count": null,
   "metadata": {},
   "outputs": [],
   "source": []
  }
 ],
 "metadata": {
  "kernelspec": {
   "display_name": "Python 3",
   "language": "python",
   "name": "python3"
  },
  "language_info": {
   "codemirror_mode": {
    "name": "ipython",
    "version": 3
   },
   "file_extension": ".py",
   "mimetype": "text/x-python",
   "name": "python",
   "nbconvert_exporter": "python",
   "pygments_lexer": "ipython3",
   "version": "3.7.2"
  }
 },
 "nbformat": 4,
 "nbformat_minor": 2
}
